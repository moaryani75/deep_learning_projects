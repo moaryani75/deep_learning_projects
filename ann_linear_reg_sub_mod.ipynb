{
 "cells": [
  {
   "cell_type": "code",
   "execution_count": 1,
   "metadata": {},
   "outputs": [],
   "source": [
    "# imports \n",
    "import numpy as np \n",
    "import matplotlib.pyplot as plt \n",
    "import pandas as pd\n",
    "from sklearn.model_selection import train_test_split\n",
    "from sklearn.model_selection import RepeatedKFold\n",
    "import tensorflow as tf\n",
    "from tensorflow import keras"
   ]
  },
  {
   "cell_type": "code",
   "execution_count": 2,
   "metadata": {},
   "outputs": [],
   "source": [
    "# prepration\n",
    "SAMPLE =1000\n",
    "f_1 =np.random.randint(30 ,40 ,SAMPLE).reshape(-1,1)\n",
    "f_2 =np.random.rand(SAMPLE).reshape(-1,1)\n",
    "f_3 =np.random.randint(1,3 ,SAMPLE).reshape(-1,1)\n",
    "x =np.concatenate((f_1 ,f_2 ,f_3) ,axis =1).astype(np.float32)\n",
    "x_norm =x /np.max(x ,axis =0)\n",
    "y =((1/5 *x_norm[:,0]) + (2/5 *x_norm[:,1]) + (2/5 *x_norm[:,2])).reshape(-1,1)\n",
    "noise =np.random.normal(loc =0 ,scale =0.05 ,size =SAMPLE).reshape(-1,1).astype(np.float32)\n",
    "y_noise =y +noise\n",
    "xtr ,xte ,ytr ,yte =train_test_split(x_norm ,y_noise ,test_size =0.2)\n",
    "x_fram =pd.DataFrame(x_norm ,columns =['f_1' ,'f_2' ,'f_3'])\n",
    "print(x_fram.describe(percentiles =[0.3 ,0.6 ,0.9]))"
   ]
  },
  {
   "cell_type": "code",
   "execution_count": 23,
   "metadata": {},
   "outputs": [],
   "source": [
    "# model definition\n",
    "class LinearModel(keras.Model) : \n",
    "    def __init__(self) : \n",
    "        super().__init__()\n",
    "        self.layer1 =keras.layers.Dense(units =1024) \n",
    "        self.norm1 =keras.layers.BatchNormalization()\n",
    "        self.act1 =keras.layers.ReLU()\n",
    "        self.drop1 =keras.layers.Dropout(rate =0.2)\n",
    "        self.layer2 =keras.layers.Dense(units =512) \n",
    "        self.norm2 =keras.layers.BatchNormalization()\n",
    "        self.act2 =keras.layers.ReLU()\n",
    "        self.drop2 =keras.layers.Dropout(rate =0.2)\n",
    "        self.layer3 =keras.layers.Dense(units =256) \n",
    "        self.norm3 =keras.layers.BatchNormalization()\n",
    "        self.act3 =keras.layers.ReLU()\n",
    "        self.drop3 =keras.layers.Dropout(rate =0.2)\n",
    "        self.layer4 =keras.layers.Dense(units =128) \n",
    "        self.norm4 =keras.layers.BatchNormalization()\n",
    "        self.act4 =keras.layers.ReLU()\n",
    "        self.drop4 =keras.layers.Dropout(rate =0.2)\n",
    "        self.layer5 =keras.layers.Dense(units =64) \n",
    "        self.norm5 =keras.layers.BatchNormalization()\n",
    "        self.act5 =keras.layers.ReLU()\n",
    "        self.drop5 =keras.layers.Dropout(rate =0.2)\n",
    "        self.layer6 =keras.layers.Dense(units =32) \n",
    "        self.norm6 =keras.layers.BatchNormalization()\n",
    "        self.act6 =keras.layers.ReLU()\n",
    "        self.drop6 =keras.layers.Dropout(rate =0.2)\n",
    "        self.layer7 =keras.layers.Dense(units =1) \n",
    "        self.norm7 =keras.layers.BatchNormalization()\n",
    "        self.act7 =keras.layers.Activation(keras.activations.linear)\n",
    "    def call(self ,inputs ,training =True) : \n",
    "        i =self.layer1(inputs)\n",
    "        o =self.act7(i ,training =training)\n",
    "        return self.layer7(o)\n",
    "model =LinearModel()\n",
    "model.compile(optimizer =keras.optimizers.RMSprop(learning_rate=0.001) ,\n",
    "              loss ='mean_squared_error' ,\n",
    "              metrics =['r2_score' ,\n",
    "                        'mean_absolute_error'])"
   ]
  },
  {
   "cell_type": "code",
   "execution_count": 3,
   "metadata": {},
   "outputs": [],
   "source": [
    "# cross validation\n",
    "SPLIT =4 \n",
    "REPEAT =2\n",
    "rkf =RepeatedKFold(n_splits =SPLIT ,n_repeats =REPEAT) \n",
    "r2_total_fold =[]\n",
    "mae_total_fold =[]\n",
    "for idx_tr ,idx_val in rkf.split(xtr ,ytr) : \n",
    "    xtr_fold =xtr[idx_tr] \n",
    "    ytr_fold =ytr[idx_tr] \n",
    "    xval_fold =xtr[idx_val] \n",
    "    yval_fold =ytr[idx_val]\n",
    "    model.fit(xtr_fold ,\n",
    "              ytr_fold ,\n",
    "              batch_size =32 ,\n",
    "              validation_batch_size=16 ,\n",
    "              validation_data =(xval_fold ,yval_fold) ,\n",
    "              epochs =100 ,\n",
    "              verbose =2\n",
    "              )\n",
    "    eva_fold =model.evaluate(xval_fold ,yval_fold ,verbose =0 ,return_dict =True) \n",
    "    r2_total_fold.append(eva_fold['r2_score'])\n",
    "    mae_total_fold.append(eva_fold['mean_absolute_error'])\n",
    "r2_mean_fold =np.mean(r2_total_fold) \n",
    "mae_mean_fold =np.mean(mae_total_fold) \n",
    "print(f'r2_score_mean_for_k_fold/n_repeat : {r2_mean_fold}' ,'\\n')\n",
    "print(f'mae_mean_for_k_fold/n_repeat : {mae_mean_fold}')"
   ]
  },
  {
   "cell_type": "code",
   "execution_count": 4,
   "metadata": {},
   "outputs": [],
   "source": [
    "# model training\n",
    "EPOCH =200\n",
    "BATCH =32\n",
    "VAL_BATCH =16\n",
    "save_path ='save_model.keras'\n",
    "model_checkpoint =keras.callbacks.ModelCheckpoint(filepath =save_path ,\n",
    "                                                  monitor ='val_loss' ,\n",
    "                                                  mode ='min' ,\n",
    "                                                  save_best_only =True)\n",
    "def Scheduler(epoch ,lr) :\n",
    "  if epoch < 60 :\n",
    "    return lr\n",
    "  else :\n",
    "    return lr * np.exp(-0.1)\n",
    "lr_schedule =keras.callbacks.LearningRateScheduler(Scheduler ,verbose =0)\n",
    "hist =model.fit(xtr ,\n",
    "                ytr ,\n",
    "                batch_size =BATCH ,\n",
    "                epochs =EPOCH ,\n",
    "                validation_data =(xte ,yte) ,\n",
    "                validation_batch_size =VAL_BATCH ,\n",
    "                callbacks=[model_checkpoint ,lr_schedule] ,\n",
    "                verbose =2)"
   ]
  },
  {
   "cell_type": "code",
   "execution_count": 7,
   "metadata": {},
   "outputs": [
    {
     "name": "stdout",
     "output_type": "stream",
     "text": [
      "loss_train_data : 0.0025733457878232002 \n",
      "\n",
      "mae_train_data : 0.040614914149045944 \n",
      "\n",
      "r2_score_train_data : 0.896861732006073 \n",
      "\n",
      "loss_test_data : 0.0028270867187529802 \n",
      "\n",
      "mae_test_data : 0.042527589946985245 \n",
      "\n",
      "r2_score_test_data : 0.8972517251968384\n"
     ]
    }
   ],
   "source": [
    "# model evaluation \n",
    "eva_te =model.evaluate(xte ,yte ,batch_size =16 ,verbose =0 ,return_dict =True)\n",
    "eva_tr =model.evaluate(xtr ,ytr ,batch_size =32 ,verbose =0 ,return_dict =True)\n",
    "print(f'loss_train_data : {eva_tr['loss']}' ,'\\n')\n",
    "print(f'mae_train_data : {eva_tr['mean_absolute_error']}' ,'\\n')\n",
    "print(f'r2_score_train_data : {eva_tr['r2_score']}' ,'\\n')\n",
    "print(f'loss_test_data : {eva_te['loss']}' ,'\\n')\n",
    "print(f'mae_test_data : {eva_te['mean_absolute_error']}' ,'\\n')\n",
    "print(f'r2_score_test_data : {eva_te['r2_score']}')"
   ]
  },
  {
   "cell_type": "code",
   "execution_count": 1,
   "metadata": {},
   "outputs": [],
   "source": [
    "# evaluation plot\n",
    "pltpath ='plot.jpg'\n",
    "plt.style.use('ggplot')\n",
    "plt.figure(num =1 ,figsize =(30,15) ,dpi =200 ,facecolor ='khaki' ,edgecolor='black') \n",
    "idx =1\n",
    "for item in hist.history.keys():\n",
    "    plt.subplot(2,4,idx)\n",
    "    plt.plot(hist.history[item] ,ls ='-' ,lw =4 ,color ='blue' ,label =item) \n",
    "    plt.xlim((0 ,EPOCH))\n",
    "    plt.ylim(np.min(hist.history[item]) ,np.max(hist.history[item]))\n",
    "    plt.xlabel(xlabel ='epochs' ,labelpad =7 ,fontdict={'size' :12 ,'weight' :'bold'})\n",
    "    plt.ylabel(ylabel =item ,labelpad =7 ,fontdict={'size' :12 ,'weight' :'bold'})\n",
    "    plt.title(label =f'{item} plot' ,pad =7 ,fontdict={'size' :15 ,'weight' :'bold' ,'color' :'salmon'})\n",
    "    plt.legend()\n",
    "    idx +=1\n",
    "plt.tight_layout()\n",
    "plt.savefig(pltpath)\n",
    "plt.show()\n"
   ]
  },
  {
   "cell_type": "code",
   "execution_count": null,
   "metadata": {},
   "outputs": [],
   "source": []
  }
 ],
 "metadata": {
  "kernelspec": {
   "display_name": "Python 3",
   "language": "python",
   "name": "python3"
  },
  "language_info": {
   "codemirror_mode": {
    "name": "ipython",
    "version": 3
   },
   "file_extension": ".py",
   "mimetype": "text/x-python",
   "name": "python",
   "nbconvert_exporter": "python",
   "pygments_lexer": "ipython3",
   "version": "3.12.6"
  }
 },
 "nbformat": 4,
 "nbformat_minor": 2
}
